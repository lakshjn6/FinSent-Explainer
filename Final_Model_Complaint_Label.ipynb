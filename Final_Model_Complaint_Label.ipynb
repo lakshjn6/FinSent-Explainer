{
 "cells": [
  {
   "cell_type": "code",
   "execution_count": 1,
   "id": "a031c4c3-d846-4ebe-aade-3ef88b351c59",
   "metadata": {},
   "outputs": [
    {
     "name": "stdout",
     "output_type": "stream",
     "text": [
      "Using device: cpu\n"
     ]
    }
   ],
   "source": [
    "import torch\n",
    "import torch.nn as nn\n",
    "import torch.nn.functional as F\n",
    "from torch.utils.data import Dataset, DataLoader\n",
    "from transformers import RobertaTokenizer, RobertaModel\n",
    "import pandas as pd\n",
    "\n",
    "device = torch.device(\"cuda\" if torch.cuda.is_available() else \"cpu\")\n",
    "print(f\"Using device: {device}\")"
   ]
  },
  {
   "cell_type": "code",
   "execution_count": 2,
   "id": "cc4e0285-96a0-43d6-b161-f34e3ced3ed1",
   "metadata": {},
   "outputs": [
    {
     "name": "stderr",
     "output_type": "stream",
     "text": [
      "Some weights of RobertaModel were not initialized from the model checkpoint at roberta-base and are newly initialized: ['roberta.pooler.dense.bias', 'roberta.pooler.dense.weight']\n",
      "You should probably TRAIN this model on a down-stream task to be able to use it for predictions and inference.\n"
     ]
    }
   ],
   "source": [
    "tokenizer = RobertaTokenizer.from_pretrained(\"roberta-base\")\n",
    "roberta = RobertaModel.from_pretrained(\n",
    "    \"roberta-base\",\n",
    "    torch_dtype=torch.float16 if torch.cuda.is_available() else torch.float32\n",
    ").to(device)"
   ]
  },
  {
   "cell_type": "code",
   "execution_count": 3,
   "id": "45d48865-7ce5-4df8-a469-a6028040a795",
   "metadata": {},
   "outputs": [],
   "source": [
    "class ComplaintDataset(Dataset):\n",
    "    def __init__(self, dataframe, tokenizer, max_len=64):\n",
    "        self.texts = dataframe[\"Complaint/ Opinion\"].astype(str).tolist()\n",
    "        self.labels = dataframe[\"Label\"].tolist()\n",
    "        self.tokenizer = tokenizer\n",
    "        self.max_len = max_len\n",
    "\n",
    "    def __len__(self):\n",
    "        return len(self.texts)\n",
    "\n",
    "    def __getitem__(self, idx):\n",
    "        text = self.texts[idx]\n",
    "        label = self.labels[idx]\n",
    "\n",
    "        encoded = self.tokenizer(\n",
    "            text,\n",
    "            max_length=self.max_len,\n",
    "            padding=\"max_length\",\n",
    "            truncation=True,\n",
    "            return_tensors=\"pt\",\n",
    "        )\n",
    "\n",
    "        return {\n",
    "            \"input_ids\": encoded[\"input_ids\"].squeeze(0),\n",
    "            \"attention_mask\": encoded[\"attention_mask\"].squeeze(0),\n",
    "            \"label\": torch.tensor(label, dtype=torch.long),\n",
    "        }"
   ]
  },
  {
   "cell_type": "code",
   "execution_count": 4,
   "id": "24b128fc-505b-4c6d-8dd3-a6fa2d3f5980",
   "metadata": {},
   "outputs": [],
   "source": [
    "class BiGRUModel(nn.Module):\n",
    "    def __init__(self, input_size, hidden_size, num_layers=1):\n",
    "        super(BiGRUModel, self).__init__()\n",
    "        self.bigru = nn.GRU(\n",
    "            input_size=input_size,\n",
    "            hidden_size=hidden_size,\n",
    "            num_layers=num_layers,\n",
    "            batch_first=True,\n",
    "            bidirectional=True,\n",
    "        )\n",
    "\n",
    "    def forward(self, x):\n",
    "        output, hidden = self.bigru(x)\n",
    "        return output, hidden"
   ]
  },
  {
   "cell_type": "code",
   "execution_count": 5,
   "id": "c9f2657b-b8c3-4d68-80e1-589e391559d1",
   "metadata": {},
   "outputs": [],
   "source": [
    "class Attention(nn.Module):\n",
    "    def __init__(self, hidden_size):\n",
    "        super(Attention, self).__init__()\n",
    "        self.attention = nn.Linear(hidden_size * 2, 1)\n",
    "\n",
    "    def forward(self, gru_output):\n",
    "        scores = self.attention(gru_output)             \n",
    "        attn_weights = F.softmax(scores, dim=1)          \n",
    "        context_vector = torch.sum(attn_weights * gru_output, dim=1)  \n",
    "        return context_vector, attn_weights"
   ]
  },
  {
   "cell_type": "code",
   "execution_count": 6,
   "id": "d241bb25-b16a-458f-aa9c-146d7aeaed42",
   "metadata": {},
   "outputs": [],
   "source": [
    "class CentralBrain(nn.Module):\n",
    "    def __init__(self, roberta_hidden_size=768, gru_hidden_size=128, num_classes=2):\n",
    "        super(CentralBrain, self).__init__()\n",
    "        self.central_fc = nn.Linear(roberta_hidden_size + gru_hidden_size * 2, 128)\n",
    "        self.classifier = nn.Linear(128, num_classes)\n",
    "\n",
    "    def forward(self, cls_embedding, attn_output):\n",
    "        combined = torch.cat((cls_embedding, attn_output), dim=1)\n",
    "        central_output = torch.relu(self.central_fc(combined))\n",
    "        logits = self.classifier(central_output)\n",
    "        return logits"
   ]
  },
  {
   "cell_type": "code",
   "execution_count": 7,
   "id": "b935fca9-1da4-49ca-8c89-a4351aabb070",
   "metadata": {},
   "outputs": [],
   "source": [
    "class FullModel(nn.Module):\n",
    "    def __init__(self, roberta, gru_hidden_size=128, num_classes=2):\n",
    "        super(FullModel, self).__init__()\n",
    "        self.roberta = roberta\n",
    "        self.bigru = BiGRUModel(input_size=768, hidden_size=gru_hidden_size)\n",
    "        self.attention = Attention(gru_hidden_size)\n",
    "        self.central_brain = CentralBrain(768, gru_hidden_size, num_classes)\n",
    "\n",
    "    def forward(self, input_ids, attention_mask):\n",
    "        outputs = self.roberta(input_ids=input_ids, attention_mask=attention_mask)\n",
    "        sequence_output = outputs.last_hidden_state    # [batch, seq_len, 768]\n",
    "        cls_embedding = outputs.pooler_output          # [batch, 768]\n",
    "\n",
    "        gru_output, _ = self.bigru(sequence_output)    # [batch, seq_len, hidden*2]\n",
    "        attn_output, attn_weights = self.attention(gru_output)  # [batch, hidden*2]\n",
    "\n",
    "        logits = self.central_brain(cls_embedding, attn_output) # [batch, num_classes]\n",
    "        return logits"
   ]
  },
  {
   "cell_type": "code",
   "execution_count": 8,
   "id": "2f0fdc30-2947-45f1-99fe-3a1e2b6c6092",
   "metadata": {},
   "outputs": [],
   "source": [
    "def train_model(model, train_loader, epochs=3, lr=2e-5):\n",
    "    optimizer = torch.optim.Adam(model.parameters(), lr=lr)\n",
    "    criterion = nn.CrossEntropyLoss()\n",
    "    scaler = torch.cuda.amp.GradScaler(enabled=torch.cuda.is_available())\n",
    "    model.train()\n",
    "    for epoch in range(epochs):\n",
    "        total_loss = 0\n",
    "        for batch in train_loader:\n",
    "            input_ids = batch[\"input_ids\"].to(device)\n",
    "            attention_mask = batch[\"attention_mask\"].to(device)\n",
    "            labels = batch[\"label\"].to(device)\n",
    "\n",
    "            optimizer.zero_grad()\n",
    "\n",
    "            with torch.cuda.amp.autocast(enabled=torch.cuda.is_available()):\n",
    "                logits = model(input_ids, attention_mask)\n",
    "                loss = criterion(logits, labels)\n",
    "\n",
    "            scaler.scale(loss).backward()\n",
    "            scaler.step(optimizer)\n",
    "            scaler.update()\n",
    "\n",
    "            total_loss += loss.item()\n",
    "\n",
    "        avg_loss = total_loss / len(train_loader)\n",
    "        print(f\"Epoch {epoch+1}/{epochs}, Loss: {avg_loss:.4f}\")"
   ]
  },
  {
   "cell_type": "raw",
   "id": "d94b3a15-fb6e-4eda-a96d-727ab215474c",
   "metadata": {},
   "source": [
    "df = pd.read_excel('C:\\\\Users\\\\BIT\\\\Downloads\\\\Complain.xlsx')\n",
    "df.rename(columns={'Complaint Label':'Label'}, inplace=True)\n",
    "\n",
    "dataset = ComplaintDataset(df, tokenizer, max_len=64)\n",
    "train_loader = DataLoader(dataset, batch_size=8, shuffle=True)\n",
    "\n",
    "model = FullModel(roberta, gru_hidden_size=128, num_classes=2).to(device)\n",
    "\n",
    "# Freeze RoBERTa for faster training\n",
    "for param in model.roberta.parameters():\n",
    "    param.requires_grad = False\n",
    "\n",
    "print(\"\\n🚀 Starting training...\")\n",
    "train_model(model, train_loader, epochs=3, lr=2e-5)"
   ]
  },
  {
   "cell_type": "code",
   "execution_count": 26,
   "id": "5b069a00-ca87-48ee-97b8-654d7bb7e6e6",
   "metadata": {},
   "outputs": [
    {
     "name": "stdout",
     "output_type": "stream",
     "text": [
      "Input: @LICIndiaForever @Paytmcare @Paytm As part of my LIC premium renewal my balance deducted but payment status shows fail. I have used LIC website where my payment gateways is Paytm. Transaction ID-  31454836Kindly address.\n",
      "Prediction class: 1\n",
      "Probabilities: [[0.01604663 0.98395336]]\n",
      "complaint\n"
     ]
    }
   ],
   "source": [
    "tokenizer = RobertaTokenizer.from_pretrained(\"saved_model\")\n",
    "loaded_model = FullModel(roberta, gru_hidden_size=128, num_classes=2).to(device)\n",
    "loaded_model.load_state_dict(torch.load(\"saved_model/full_model.pth\", map_location=device))\n",
    "loaded_model.eval()\n",
    "\n",
    "loaded_model.eval() \n",
    "new_text = \"@LICIndiaForever @Paytmcare @Paytm As part of my LIC premium renewal my balance deducted but payment status shows fail. I have used LIC website where my payment gateways is Paytm. Transaction ID-  31454836Kindly address.\"\n",
    "\n",
    "encoded = tokenizer(\n",
    "    new_text,\n",
    "    max_length=64,\n",
    "    padding=\"max_length\",\n",
    "    truncation=True,\n",
    "    return_tensors=\"pt\"\n",
    ")\n",
    "\n",
    "input_ids = encoded[\"input_ids\"].to(device)\n",
    "attention_mask = encoded[\"attention_mask\"].to(device)\n",
    "\n",
    "\n",
    "with torch.no_grad():\n",
    "    logits = loaded_model(input_ids, attention_mask)\n",
    "    probs = torch.softmax(logits, dim=1)\n",
    "    predicted_class = torch.argmax(probs, dim=1).item()\n",
    "\n",
    "print(f\"Input: {new_text}\")\n",
    "print(f\"Prediction class: {predicted_class}\")\n",
    "print(f\"Probabilities: {probs.cpu().numpy()}\")\n",
    "\n",
    "if(predicted_class==1):\n",
    "    print(\"complaint\")\n",
    "else:\n",
    "    print(\"non complaint\")\n",
    "    "
   ]
  },
  {
   "cell_type": "code",
   "execution_count": 19,
   "id": "b5988866-0cc9-4ae9-b646-d9e3924c011e",
   "metadata": {},
   "outputs": [],
   "source": [
    "def Complaint(s):\n",
    "    encoded = tokenizer(\n",
    "    new_text,\n",
    "    max_length=64,\n",
    "    padding=\"max_length\",\n",
    "    truncation=True,\n",
    "    return_tensors=\"pt\")\n",
    "    input_ids = encoded[\"input_ids\"].to(device)\n",
    "    attention_mask = encoded[\"attention_mask\"].to(device)\n",
    "\n",
    "    with torch.no_grad():\n",
    "        logits = loaded_model(input_ids, attention_mask)\n",
    "        probs = torch.softmax(logits, dim=1)\n",
    "        predicted_class = torch.argmax(probs, dim=1).item()\n",
    "\n",
    "    print(f\"Input: {new_text}\")\n",
    "    print(f\"Prediction class: {predicted_class}\")\n",
    "    print(f\"Probabilities: {probs.cpu().numpy()}\")\n",
    "    if(predicted_class==1):\n",
    "          print(\"complaint\")\n",
    "    else:\n",
    "          print(\"non complaint\")\n",
    "    \n",
    "    "
   ]
  },
  {
   "cell_type": "code",
   "execution_count": 25,
   "id": "4e68a903-edd3-4406-90e7-431506bae06c",
   "metadata": {},
   "outputs": [
    {
     "name": "stdout",
     "output_type": "stream",
     "text": [
      "Input: im using my atm card but cash can't be withdrawn\n",
      "Prediction class: 0\n",
      "Probabilities: [[0.82178855 0.1782114 ]]\n",
      "non complaint\n"
     ]
    }
   ],
   "source": [
    "Complaint(\" @LICIndiaForever @Paytmcare @Paytm As part of my LIC premium renewal my balance deducted but payment status shows fail. I have used LIC website where my payment gateways is Paytm. Transaction ID-  31454836 Kindly address\" )"
   ]
  },
  {
   "cell_type": "code",
   "execution_count": null,
   "id": "ad048614-0a20-4b1e-b4e9-9925741c2e00",
   "metadata": {},
   "outputs": [],
   "source": []
  }
 ],
 "metadata": {
  "kernelspec": {
   "display_name": "Python 3 (ipykernel)",
   "language": "python",
   "name": "python3"
  },
  "language_info": {
   "codemirror_mode": {
    "name": "ipython",
    "version": 3
   },
   "file_extension": ".py",
   "mimetype": "text/x-python",
   "name": "python",
   "nbconvert_exporter": "python",
   "pygments_lexer": "ipython3",
   "version": "3.12.4"
  }
 },
 "nbformat": 4,
 "nbformat_minor": 5
}
