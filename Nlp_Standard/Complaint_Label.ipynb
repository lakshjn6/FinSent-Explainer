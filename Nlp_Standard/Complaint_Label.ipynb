{
 "cells": [
  {
   "cell_type": "code",
   "execution_count": 23,
   "id": "04708798-bff0-4b7a-931f-e79e3fde84ce",
   "metadata": {},
   "outputs": [],
   "source": [
    "import pandas as pd\n",
    "from sklearn.feature_extraction.text import TfidfVectorizer\n",
    "from nltk.tokenize import sent_tokenize\n",
    "from nltk.corpus import stopwords\n",
    "from nltk.tokenize import word_tokenize\n",
    "from nltk.corpus import stopwords\n",
    "from nltk.stem import WordNetLemmatizer\n",
    "import re\n",
    "from sklearn.svm import SVC\n",
    "from sklearn.model_selection import train_test_split\n",
    "from sklearn.metrics import r2_score\n",
    "import joblib"
   ]
  },
  {
   "cell_type": "code",
   "execution_count": 7,
   "id": "0d78d0fd-c85b-4adb-905d-184bf13040b7",
   "metadata": {},
   "outputs": [],
   "source": [
    "df=pd.read_excel('C:\\\\Users\\\\BIT\\\\Downloads\\\\Complain.xlsx')"
   ]
  },
  {
   "cell_type": "code",
   "execution_count": 8,
   "id": "b1c9f13c-db10-446e-a07c-ea599e571c09",
   "metadata": {},
   "outputs": [
    {
     "data": {
      "text/html": [
       "<div>\n",
       "<style scoped>\n",
       "    .dataframe tbody tr th:only-of-type {\n",
       "        vertical-align: middle;\n",
       "    }\n",
       "\n",
       "    .dataframe tbody tr th {\n",
       "        vertical-align: top;\n",
       "    }\n",
       "\n",
       "    .dataframe thead th {\n",
       "        text-align: right;\n",
       "    }\n",
       "</style>\n",
       "<table border=\"1\" class=\"dataframe\">\n",
       "  <thead>\n",
       "    <tr style=\"text-align: right;\">\n",
       "      <th></th>\n",
       "      <th>Domain</th>\n",
       "      <th>Complaint/ Opinion</th>\n",
       "      <th>Complaint Label</th>\n",
       "      <th>Complaint_Cause</th>\n",
       "      <th>Severity level</th>\n",
       "      <th>Sentiment</th>\n",
       "      <th>Emotion</th>\n",
       "    </tr>\n",
       "  </thead>\n",
       "  <tbody>\n",
       "    <tr>\n",
       "      <th>0</th>\n",
       "      <td>Transaction Fail</td>\n",
       "      <td>Can someone tell me if transaction fail betwee...</td>\n",
       "      <td>1</td>\n",
       "      <td>transaction fail between merchant and Bank due...</td>\n",
       "      <td>No explicit reproach</td>\n",
       "      <td>negative</td>\n",
       "      <td>sadness</td>\n",
       "    </tr>\n",
       "    <tr>\n",
       "      <th>1</th>\n",
       "      <td>Transaction Fail</td>\n",
       "      <td>@LICIndiaForever @Paytmcare @Paytm As part of ...</td>\n",
       "      <td>1</td>\n",
       "      <td>balance deducted but payment status shows fail</td>\n",
       "      <td>No explicit reproach</td>\n",
       "      <td>negative</td>\n",
       "      <td>sadness</td>\n",
       "    </tr>\n",
       "    <tr>\n",
       "      <th>2</th>\n",
       "      <td>Transaction Fail</td>\n",
       "      <td>@ICICIBank_Care This is something very serious...</td>\n",
       "      <td>1</td>\n",
       "      <td>not able to use imobile app</td>\n",
       "      <td>No explicit reproach</td>\n",
       "      <td>negative</td>\n",
       "      <td>anger</td>\n",
       "    </tr>\n",
       "    <tr>\n",
       "      <th>3</th>\n",
       "      <td>Transaction Fail</td>\n",
       "      <td>@RBI @ICICIBank_Care @ICICIBank @CRED_support ...</td>\n",
       "      <td>1</td>\n",
       "      <td>payment seems a fraud transaction</td>\n",
       "      <td>Blame</td>\n",
       "      <td>negative</td>\n",
       "      <td>anger</td>\n",
       "    </tr>\n",
       "    <tr>\n",
       "      <th>4</th>\n",
       "      <td>Transaction Fail</td>\n",
       "      <td>Fraud transaction through CRED for SBI C-Card ...</td>\n",
       "      <td>1</td>\n",
       "      <td>Fraud transaction through CRED</td>\n",
       "      <td>Accusation</td>\n",
       "      <td>negative</td>\n",
       "      <td>surprise</td>\n",
       "    </tr>\n",
       "  </tbody>\n",
       "</table>\n",
       "</div>"
      ],
      "text/plain": [
       "             Domain                                 Complaint/ Opinion  \\\n",
       "0  Transaction Fail  Can someone tell me if transaction fail betwee...   \n",
       "1  Transaction Fail  @LICIndiaForever @Paytmcare @Paytm As part of ...   \n",
       "2  Transaction Fail  @ICICIBank_Care This is something very serious...   \n",
       "3  Transaction Fail  @RBI @ICICIBank_Care @ICICIBank @CRED_support ...   \n",
       "4  Transaction Fail  Fraud transaction through CRED for SBI C-Card ...   \n",
       "\n",
       "   Complaint Label                                    Complaint_Cause  \\\n",
       "0                1  transaction fail between merchant and Bank due...   \n",
       "1                1     balance deducted but payment status shows fail   \n",
       "2                1                        not able to use imobile app   \n",
       "3                1                  payment seems a fraud transaction   \n",
       "4                1                     Fraud transaction through CRED   \n",
       "\n",
       "         Severity level Sentiment   Emotion  \n",
       "0  No explicit reproach  negative   sadness  \n",
       "1  No explicit reproach  negative   sadness  \n",
       "2  No explicit reproach  negative     anger  \n",
       "3                 Blame  negative     anger  \n",
       "4            Accusation  negative  surprise  "
      ]
     },
     "execution_count": 8,
     "metadata": {},
     "output_type": "execute_result"
    }
   ],
   "source": [
    "df.head()"
   ]
  },
  {
   "cell_type": "code",
   "execution_count": 9,
   "id": "a370fc8e-206a-4958-a111-bf952f79ac4f",
   "metadata": {},
   "outputs": [],
   "source": [
    "Lemmatizer=WordNetLemmatizer()"
   ]
  },
  {
   "cell_type": "code",
   "execution_count": 10,
   "id": "1d69ce9f-aa62-4372-b652-98eb3a2e99e3",
   "metadata": {},
   "outputs": [],
   "source": [
    "corpus=[]\n",
    "for i in range(0,len(df)):\n",
    "    review=re.sub('[^a-zA-Z]',' ',df['Complaint/ Opinion'][i])\n",
    "    review=review.lower()\n",
    "    review=review.split()\n",
    "    review=[Lemmatizer.lemmatize(word , pos='v') for word in review if not word in stopwords.words('english')]\n",
    "    review=' '.join(review)\n",
    "    corpus.append(review)"
   ]
  },
  {
   "cell_type": "code",
   "execution_count": 11,
   "id": "02f4d8bb-5675-4153-9c20-44bab0b2f53d",
   "metadata": {},
   "outputs": [],
   "source": [
    "complain_data=pd.DataFrame(corpus)\n",
    "complain_data.rename(columns={0:\"complain\"}, inplace=True)"
   ]
  },
  {
   "cell_type": "code",
   "execution_count": 12,
   "id": "c27f461d-66f9-4c33-8d68-9740f836d681",
   "metadata": {},
   "outputs": [],
   "source": [
    "data=pd.concat([complain_data,df['Complaint Label']],axis=1)"
   ]
  },
  {
   "cell_type": "code",
   "execution_count": 13,
   "id": "cab3da7b-ba15-4dc3-8516-40baa3d632d1",
   "metadata": {},
   "outputs": [],
   "source": [
    "tfid=TfidfVectorizer(stop_words='english', max_features=2000 , ngram_range=(1,4))"
   ]
  },
  {
   "cell_type": "code",
   "execution_count": 14,
   "id": "2e606bcc-4f9c-4668-ad63-beba81e7f87a",
   "metadata": {},
   "outputs": [],
   "source": [
    "X=data['complain']\n",
    "Y=data['Complaint Label']"
   ]
  },
  {
   "cell_type": "code",
   "execution_count": 15,
   "id": "51c4e106-0d18-4da5-8b60-c72390d88551",
   "metadata": {},
   "outputs": [],
   "source": [
    "X_train , X_test , y_train , y_test = train_test_split(X,Y,train_size=0.8 , random_state=42)"
   ]
  },
  {
   "cell_type": "code",
   "execution_count": 16,
   "id": "5f56e663-a3ef-4d6f-bc0a-edef15ea81d0",
   "metadata": {},
   "outputs": [],
   "source": [
    "X_train=tfid.fit_transform(X_train).toarray()\n",
    "X_test=tfid.transform(X_test).toarray()"
   ]
  },
  {
   "cell_type": "code",
   "execution_count": 17,
   "id": "353778fc-765f-4aff-b609-5c8dd4fef330",
   "metadata": {},
   "outputs": [],
   "source": [
    "svc=SVC(C=0.5 , gamma=0.5)"
   ]
  },
  {
   "cell_type": "code",
   "execution_count": 18,
   "id": "0462ed34-9f83-4f25-8db6-987c4bcd0cec",
   "metadata": {},
   "outputs": [],
   "source": [
    "model=svc.fit(X_train , y_train)"
   ]
  },
  {
   "cell_type": "code",
   "execution_count": 19,
   "id": "60129ca7-355d-4e96-b51a-dd4b716098c3",
   "metadata": {},
   "outputs": [],
   "source": [
    "y_predict=model.predict(X_test)"
   ]
  },
  {
   "cell_type": "code",
   "execution_count": 20,
   "id": "4600eb5b-fbe6-4c9e-a47d-228bfc0b2820",
   "metadata": {},
   "outputs": [
    {
     "data": {
      "text/plain": [
       "array([0, 0, 1, ..., 0, 1, 0], dtype=int64)"
      ]
     },
     "execution_count": 20,
     "metadata": {},
     "output_type": "execute_result"
    }
   ],
   "source": [
    "y_predict"
   ]
  },
  {
   "cell_type": "code",
   "execution_count": 22,
   "id": "7b3671c9-041b-4ed7-b45d-990910f043bb",
   "metadata": {},
   "outputs": [
    {
     "data": {
      "text/plain": [
       "0.9107626333752015"
      ]
     },
     "execution_count": 22,
     "metadata": {},
     "output_type": "execute_result"
    }
   ],
   "source": [
    "r2_score(y_test , y_predict)"
   ]
  },
  {
   "cell_type": "code",
   "execution_count": 26,
   "id": "15664cc3-7e96-4dc0-bd15-956de85f3906",
   "metadata": {},
   "outputs": [
    {
     "data": {
      "text/plain": [
       "['tfid.pkl']"
      ]
     },
     "execution_count": 26,
     "metadata": {},
     "output_type": "execute_result"
    }
   ],
   "source": [
    "joblib.dump(model, \"Complaint_Label.pkl\")\n",
    "joblib.dump(tfid, \"tfid.pkl\")"
   ]
  },
  {
   "cell_type": "code",
   "execution_count": null,
   "id": "52983a70-595e-42b6-8b16-a74e00dcb9f8",
   "metadata": {},
   "outputs": [],
   "source": []
  }
 ],
 "metadata": {
  "kernelspec": {
   "display_name": "Python 3 (ipykernel)",
   "language": "python",
   "name": "python3"
  },
  "language_info": {
   "codemirror_mode": {
    "name": "ipython",
    "version": 3
   },
   "file_extension": ".py",
   "mimetype": "text/x-python",
   "name": "python",
   "nbconvert_exporter": "python",
   "pygments_lexer": "ipython3",
   "version": "3.12.4"
  }
 },
 "nbformat": 4,
 "nbformat_minor": 5
}
