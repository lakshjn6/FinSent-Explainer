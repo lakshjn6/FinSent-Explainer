{
 "cells": [
  {
   "cell_type": "code",
   "execution_count": 1,
   "id": "6f540b7e-9319-4829-8724-6fad17c310f6",
   "metadata": {},
   "outputs": [
    {
     "name": "stderr",
     "output_type": "stream",
     "text": [
      "The cache for model files in Transformers v4.22.0 has been updated. Migrating your old cache. This is a one-time only operation. You can interrupt this and resume the migration later on by calling `transformers.utils.move_cache()`.\n"
     ]
    },
    {
     "data": {
      "application/vnd.jupyter.widget-view+json": {
       "model_id": "6165348a3e6247cda246e3acfa35e2cd",
       "version_major": 2,
       "version_minor": 0
      },
      "text/plain": [
       "0it [00:00, ?it/s]"
      ]
     },
     "metadata": {},
     "output_type": "display_data"
    }
   ],
   "source": [
    "import pandas as pd\n",
    "from sklearn.feature_extraction.text import TfidfVectorizer\n",
    "from nltk.tokenize import sent_tokenize\n",
    "from nltk.corpus import stopwords\n",
    "from nltk.tokenize import word_tokenize\n",
    "from nltk.corpus import stopwords\n",
    "from nltk.stem import WordNetLemmatizer\n",
    "import re\n",
    "from sklearn.svm import SVC\n",
    "from sklearn.model_selection import train_test_split\n",
    "from sklearn.metrics import r2_score\n",
    "import joblib\n",
    "from transformers import BertTokenizer, BertForSequenceClassification\n",
    "import torch"
   ]
  },
  {
   "cell_type": "code",
   "execution_count": 2,
   "id": "7ca91e5f-b339-4d0c-9a1a-fae66982e055",
   "metadata": {},
   "outputs": [],
   "source": [
    "df=pd.read_excel('C:\\\\Users\\\\BIT\\\\Downloads\\\\Complain.xlsx')"
   ]
  },
  {
   "cell_type": "code",
   "execution_count": 3,
   "id": "80fe96bc-c46b-4823-b78e-558e030dae63",
   "metadata": {},
   "outputs": [
    {
     "data": {
      "text/html": [
       "<div>\n",
       "<style scoped>\n",
       "    .dataframe tbody tr th:only-of-type {\n",
       "        vertical-align: middle;\n",
       "    }\n",
       "\n",
       "    .dataframe tbody tr th {\n",
       "        vertical-align: top;\n",
       "    }\n",
       "\n",
       "    .dataframe thead th {\n",
       "        text-align: right;\n",
       "    }\n",
       "</style>\n",
       "<table border=\"1\" class=\"dataframe\">\n",
       "  <thead>\n",
       "    <tr style=\"text-align: right;\">\n",
       "      <th></th>\n",
       "      <th>Domain</th>\n",
       "      <th>Complaint/ Opinion</th>\n",
       "      <th>Complaint Label</th>\n",
       "      <th>Complaint_Cause</th>\n",
       "      <th>Severity level</th>\n",
       "      <th>Sentiment</th>\n",
       "      <th>Emotion</th>\n",
       "    </tr>\n",
       "  </thead>\n",
       "  <tbody>\n",
       "    <tr>\n",
       "      <th>0</th>\n",
       "      <td>Transaction Fail</td>\n",
       "      <td>Can someone tell me if transaction fail betwee...</td>\n",
       "      <td>1</td>\n",
       "      <td>transaction fail between merchant and Bank due...</td>\n",
       "      <td>No explicit reproach</td>\n",
       "      <td>negative</td>\n",
       "      <td>sadness</td>\n",
       "    </tr>\n",
       "    <tr>\n",
       "      <th>1</th>\n",
       "      <td>Transaction Fail</td>\n",
       "      <td>@LICIndiaForever @Paytmcare @Paytm As part of ...</td>\n",
       "      <td>1</td>\n",
       "      <td>balance deducted but payment status shows fail</td>\n",
       "      <td>No explicit reproach</td>\n",
       "      <td>negative</td>\n",
       "      <td>sadness</td>\n",
       "    </tr>\n",
       "    <tr>\n",
       "      <th>2</th>\n",
       "      <td>Transaction Fail</td>\n",
       "      <td>@ICICIBank_Care This is something very serious...</td>\n",
       "      <td>1</td>\n",
       "      <td>not able to use imobile app</td>\n",
       "      <td>No explicit reproach</td>\n",
       "      <td>negative</td>\n",
       "      <td>anger</td>\n",
       "    </tr>\n",
       "    <tr>\n",
       "      <th>3</th>\n",
       "      <td>Transaction Fail</td>\n",
       "      <td>@RBI @ICICIBank_Care @ICICIBank @CRED_support ...</td>\n",
       "      <td>1</td>\n",
       "      <td>payment seems a fraud transaction</td>\n",
       "      <td>Blame</td>\n",
       "      <td>negative</td>\n",
       "      <td>anger</td>\n",
       "    </tr>\n",
       "    <tr>\n",
       "      <th>4</th>\n",
       "      <td>Transaction Fail</td>\n",
       "      <td>Fraud transaction through CRED for SBI C-Card ...</td>\n",
       "      <td>1</td>\n",
       "      <td>Fraud transaction through CRED</td>\n",
       "      <td>Accusation</td>\n",
       "      <td>negative</td>\n",
       "      <td>surprise</td>\n",
       "    </tr>\n",
       "  </tbody>\n",
       "</table>\n",
       "</div>"
      ],
      "text/plain": [
       "             Domain                                 Complaint/ Opinion  \\\n",
       "0  Transaction Fail  Can someone tell me if transaction fail betwee...   \n",
       "1  Transaction Fail  @LICIndiaForever @Paytmcare @Paytm As part of ...   \n",
       "2  Transaction Fail  @ICICIBank_Care This is something very serious...   \n",
       "3  Transaction Fail  @RBI @ICICIBank_Care @ICICIBank @CRED_support ...   \n",
       "4  Transaction Fail  Fraud transaction through CRED for SBI C-Card ...   \n",
       "\n",
       "   Complaint Label                                    Complaint_Cause  \\\n",
       "0                1  transaction fail between merchant and Bank due...   \n",
       "1                1     balance deducted but payment status shows fail   \n",
       "2                1                        not able to use imobile app   \n",
       "3                1                  payment seems a fraud transaction   \n",
       "4                1                     Fraud transaction through CRED   \n",
       "\n",
       "         Severity level Sentiment   Emotion  \n",
       "0  No explicit reproach  negative   sadness  \n",
       "1  No explicit reproach  negative   sadness  \n",
       "2  No explicit reproach  negative     anger  \n",
       "3                 Blame  negative     anger  \n",
       "4            Accusation  negative  surprise  "
      ]
     },
     "execution_count": 3,
     "metadata": {},
     "output_type": "execute_result"
    }
   ],
   "source": [
    "df.head()"
   ]
  },
  {
   "cell_type": "code",
   "execution_count": 4,
   "id": "bf737648-3d1e-4d02-966c-c139a85988bd",
   "metadata": {},
   "outputs": [],
   "source": [
    "Lemmatizer=WordNetLemmatizer()\n",
    "corpus=[]\n",
    "for i in range(0,len(df)):\n",
    "    review=re.sub('[^a-zA-Z]',' ',df['Complaint/ Opinion'][i])\n",
    "    review=review.lower()\n",
    "    review=review.split()\n",
    "    review=[Lemmatizer.lemmatize(word , pos='v') for word in review if not word in stopwords.words('english')]\n",
    "    review=' '.join(review)\n",
    "    corpus.append(review)"
   ]
  },
  {
   "cell_type": "code",
   "execution_count": 5,
   "id": "d3bea93c-a19a-4a20-8375-8054fecfc4c8",
   "metadata": {},
   "outputs": [],
   "source": [
    "complain_data=pd.DataFrame(corpus)\n",
    "complain_data.rename(columns={0:\"complain\"}, inplace=True)"
   ]
  },
  {
   "cell_type": "code",
   "execution_count": 6,
   "id": "1545ffa1-ca80-41e4-804c-018855c511eb",
   "metadata": {},
   "outputs": [],
   "source": [
    "data=pd.concat([complain_data,df['Emotion']],axis=1)"
   ]
  },
  {
   "cell_type": "code",
   "execution_count": 7,
   "id": "874a38da-ce8d-4b2e-a699-00aab774e6f5",
   "metadata": {},
   "outputs": [
    {
     "data": {
      "text/plain": [
       "array(['sadness', 'anger', 'surprise', 'fear', 'disgust', 'other',\n",
       "       'happiness'], dtype=object)"
      ]
     },
     "execution_count": 7,
     "metadata": {},
     "output_type": "execute_result"
    }
   ],
   "source": [
    "data['Emotion'].unique()"
   ]
  },
  {
   "cell_type": "code",
   "execution_count": 8,
   "id": "e1236475-34f0-4ffe-a4e5-ce911f7545e6",
   "metadata": {},
   "outputs": [
    {
     "name": "stderr",
     "output_type": "stream",
     "text": [
      "C:\\Users\\BIT\\AppData\\Local\\Temp\\ipykernel_16100\\3074045001.py:1: FutureWarning: A value is trying to be set on a copy of a DataFrame or Series through chained assignment using an inplace method.\n",
      "The behavior will change in pandas 3.0. This inplace method will never work because the intermediate object on which we are setting values always behaves as a copy.\n",
      "\n",
      "For example, when doing 'df[col].method(value, inplace=True)', try using 'df.method({col: value}, inplace=True)' or df[col] = df[col].method(value) instead, to perform the operation inplace on the original object.\n",
      "\n",
      "\n",
      "  data['Emotion'].replace({'sadness':1, 'anger':2, 'surprise':3, 'fear':4, 'disgust':5, 'other':6,'happiness':7} , inplace=True)\n",
      "C:\\Users\\BIT\\AppData\\Local\\Temp\\ipykernel_16100\\3074045001.py:1: FutureWarning: Downcasting behavior in `replace` is deprecated and will be removed in a future version. To retain the old behavior, explicitly call `result.infer_objects(copy=False)`. To opt-in to the future behavior, set `pd.set_option('future.no_silent_downcasting', True)`\n",
      "  data['Emotion'].replace({'sadness':1, 'anger':2, 'surprise':3, 'fear':4, 'disgust':5, 'other':6,'happiness':7} , inplace=True)\n"
     ]
    }
   ],
   "source": [
    "data['Emotion'].replace({'sadness':1, 'anger':2, 'surprise':3, 'fear':4, 'disgust':5, 'other':6,'happiness':7} , inplace=True)"
   ]
  },
  {
   "cell_type": "code",
   "execution_count": 12,
   "id": "7f0d436b-468f-423e-a82e-3e88d1071247",
   "metadata": {},
   "outputs": [
    {
     "data": {
      "text/html": [
       "<div>\n",
       "<style scoped>\n",
       "    .dataframe tbody tr th:only-of-type {\n",
       "        vertical-align: middle;\n",
       "    }\n",
       "\n",
       "    .dataframe tbody tr th {\n",
       "        vertical-align: top;\n",
       "    }\n",
       "\n",
       "    .dataframe thead th {\n",
       "        text-align: right;\n",
       "    }\n",
       "</style>\n",
       "<table border=\"1\" class=\"dataframe\">\n",
       "  <thead>\n",
       "    <tr style=\"text-align: right;\">\n",
       "      <th></th>\n",
       "      <th>complain</th>\n",
       "      <th>Emotion</th>\n",
       "    </tr>\n",
       "  </thead>\n",
       "  <tbody>\n",
       "    <tr>\n",
       "      <th>0</th>\n",
       "      <td>someone tell transaction fail merchant bank du...</td>\n",
       "      <td>1</td>\n",
       "    </tr>\n",
       "    <tr>\n",
       "      <th>1</th>\n",
       "      <td>licindiaforever paytmcare paytm part lic premi...</td>\n",
       "      <td>1</td>\n",
       "    </tr>\n",
       "    <tr>\n",
       "      <th>2</th>\n",
       "      <td>icicibank care something serious nd urgent abl...</td>\n",
       "      <td>2</td>\n",
       "    </tr>\n",
       "    <tr>\n",
       "      <th>3</th>\n",
       "      <td>rbi icicibank care icicibank cred support theo...</td>\n",
       "      <td>2</td>\n",
       "    </tr>\n",
       "    <tr>\n",
       "      <th>4</th>\n",
       "      <td>fraud transaction cred sbi c card payment icic...</td>\n",
       "      <td>3</td>\n",
       "    </tr>\n",
       "    <tr>\n",
       "      <th>...</th>\n",
       "      <td>...</td>\n",
       "      <td>...</td>\n",
       "    </tr>\n",
       "    <tr>\n",
       "      <th>6275</th>\n",
       "      <td>implication policies reduce emissions save fin...</td>\n",
       "      <td>4</td>\n",
       "    </tr>\n",
       "    <tr>\n",
       "      <th>6276</th>\n",
       "      <td>bank put notice regard climate change policies...</td>\n",
       "      <td>7</td>\n",
       "    </tr>\n",
       "    <tr>\n",
       "      <th>6277</th>\n",
       "      <td>stock market expect tough year lot opportuniti...</td>\n",
       "      <td>7</td>\n",
       "    </tr>\n",
       "    <tr>\n",
       "      <th>6278</th>\n",
       "      <td>goodbye punch bowl go miss federal reserve pre...</td>\n",
       "      <td>5</td>\n",
       "    </tr>\n",
       "    <tr>\n",
       "      <th>6279</th>\n",
       "      <td>company policies process monitor major financi...</td>\n",
       "      <td>6</td>\n",
       "    </tr>\n",
       "  </tbody>\n",
       "</table>\n",
       "<p>6280 rows × 2 columns</p>\n",
       "</div>"
      ],
      "text/plain": [
       "                                               complain  Emotion\n",
       "0     someone tell transaction fail merchant bank du...        1\n",
       "1     licindiaforever paytmcare paytm part lic premi...        1\n",
       "2     icicibank care something serious nd urgent abl...        2\n",
       "3     rbi icicibank care icicibank cred support theo...        2\n",
       "4     fraud transaction cred sbi c card payment icic...        3\n",
       "...                                                 ...      ...\n",
       "6275  implication policies reduce emissions save fin...        4\n",
       "6276  bank put notice regard climate change policies...        7\n",
       "6277  stock market expect tough year lot opportuniti...        7\n",
       "6278  goodbye punch bowl go miss federal reserve pre...        5\n",
       "6279  company policies process monitor major financi...        6\n",
       "\n",
       "[6280 rows x 2 columns]"
      ]
     },
     "execution_count": 12,
     "metadata": {},
     "output_type": "execute_result"
    }
   ],
   "source": [
    "data"
   ]
  },
  {
   "cell_type": "code",
   "execution_count": 13,
   "id": "9f58f295-0c05-4d46-ab32-471c7e79bcb9",
   "metadata": {},
   "outputs": [],
   "source": [
    "tfid=TfidfVectorizer(stop_words='english', max_features=2000 , ngram_range=(1,4))\n",
    "X=data['complain']\n",
    "Y=data['Emotion']\n",
    "X_train , X_test , y_train , y_test = train_test_split(X,Y,train_size=0.8 , random_state=42)\n"
   ]
  },
  {
   "cell_type": "code",
   "execution_count": null,
   "id": "389cc233-0930-45d3-bf47-f2f183925c0d",
   "metadata": {},
   "outputs": [],
   "source": [
    "import pandas as pd\n",
    "from transformers import AutoModelForSequenceClassification, AutoTokenizer\n",
    "import numpy as np\n",
    "from scipy.special import softmax\n",
    "\n",
    "# =======================\n",
    "# Load dataset\n",
    "# =======================\n",
    "df = pd.read_excel(\"C:\\\\Users\\\\BIT\\\\Downloads\\\\Complain.xlsx\")\n",
    "df = df[['Complaint/ Opinion', 'Emotion']]\n",
    "\n",
    "# =======================\n",
    "# Preprocessing function\n",
    "# =======================\n",
    "def preprocess(text):\n",
    "    new_text = []\n",
    "    for t in str(text).split(\" \"):\n",
    "        t = '@user' if t.startswith('@') and len(t) > 1 else t\n",
    "        t = 'http' if t.startswith('http') else t\n",
    "        new_text.append(t)\n",
    "    return \" \".join(new_text)\n",
    "\n",
    "# =======================\n",
    "# Load model + tokenizer\n",
    "# =======================\n",
    "task = \"emotion\"   # ✅ must be lowercase\n",
    "MODEL = f\"cardiffnlp/twitter-roberta-base-{task}\"\n",
    "\n",
    "tokenizer = AutoTokenizer.from_pretrained(MODEL)\n",
    "model = AutoModelForSequenceClassification.from_pretrained(MODEL)\n",
    "\n",
    "# =======================\n",
    "# Define labels manually\n",
    "# =======================\n",
    "labels = [\"anger\", \"joy\", \"optimism\", \"sadness\"]\n",
    "\n",
    "# =======================\n",
    "# Predict emotions\n",
    "# =======================\n",
    "pred_labels = []\n",
    "pred_scores = []\n",
    "\n",
    "for text in df[\"Complaint/ Opinion\"]:\n",
    "    text = preprocess(text)\n",
    "    encoded_input = tokenizer(text, return_tensors=\"pt\")\n",
    "    output = model(**encoded_input)\n",
    "    scores = output[0][0].detach().numpy()\n",
    "    scores = softmax(scores)\n",
    "\n",
    "    label_id = np.argmax(scores)\n",
    "    pred_labels.append(labels[label_id])\n",
    "    pred_scores.append(float(scores[label_id]))\n",
    "\n",
    "# =======================\n",
    "# Save results\n",
    "# =======================\n",
    "df[\"predicted_emotion\"] = pred_labels\n",
    "df[\"confidence\"] = pred_scores\n",
    "\n",
    "df.to_csv(\"complaints_with_predictions.csv\", index=False, encoding=\"utf-8-sig\")\n",
    "print(\"✅ Predictions saved to complaints_with_predictions.csv\")\n"
   ]
  },
  {
   "cell_type": "code",
   "execution_count": null,
   "id": "3ec20141-c163-4363-af47-4680e08502a6",
   "metadata": {},
   "outputs": [],
   "source": []
  }
 ],
 "metadata": {
  "kernelspec": {
   "display_name": "Python 3 (ipykernel)",
   "language": "python",
   "name": "python3"
  },
  "language_info": {
   "codemirror_mode": {
    "name": "ipython",
    "version": 3
   },
   "file_extension": ".py",
   "mimetype": "text/x-python",
   "name": "python",
   "nbconvert_exporter": "python",
   "pygments_lexer": "ipython3",
   "version": "3.12.4"
  }
 },
 "nbformat": 4,
 "nbformat_minor": 5
}
