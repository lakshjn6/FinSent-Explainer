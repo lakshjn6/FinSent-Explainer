{
 "cells": [
  {
   "cell_type": "code",
   "execution_count": null,
   "id": "176c621c-e11a-4883-a66b-b623567c39e6",
   "metadata": {},
   "outputs": [],
   "source": [
    "import torch\n",
    "import torch.nn as nn\n",
    "\n",
    "class BiGRUModel(nn.Module):\n",
    "    def __init__(self, input_size, hidden_size, num_layers=1):\n",
    "        super(BiGRUModel, self).__init__()\n",
    "        \n",
    "        # BiGRU Layer\n",
    "        self.bigru = nn.GRU(\n",
    "            input_size=input_size,   # size of input vector (e.g., embedding dim)\n",
    "            hidden_size=hidden_size, # GRU hidden state size\n",
    "            num_layers=num_layers,   # number of stacked GRU layers\n",
    "            batch_first=True,        # batch dim comes first: [batch, seq_len, feat]\n",
    "            bidirectional=True       # makes it BiGRU\n",
    "        )\n",
    "        \n",
    "    def forward(self, x):\n",
    "        # x shape: [batch, seq_len, input_size]\n",
    "        \n",
    "        output, hidden = self.bigru(x)\n",
    "        # output shape: [batch, seq_len, hidden_size*2]   (because bidirectional)\n",
    "        # hidden shape: [num_layers*2, batch, hidden_size]\n",
    "        \n",
    "        return output, hidden\n",
    "\n",
    "# -------------------------\n",
    "# Example usage\n",
    "batch_size = 2\n",
    "seq_len = 5\n",
    "input_size = 10   # each token embedding size = 10\n",
    "hidden_size = 8   # GRU hidden size\n",
    "\n",
    "# Random input (batch of 2 sentences, each 5 tokens, each token = 10 dim vector)\n",
    "x = torch.randn(batch_size, seq_len, input_size)\n",
    "\n",
    "model = BiGRUModel(input_size=input_size, hidden_size=hidden_size)\n",
    "output, hidden = model(x)\n",
    "\n",
    "print(\"Input shape:\", x.shape)        # [2, 5, 10]\n",
    "print(\"Output shape:\", output.shape)  # [2, 5, 16] (8*2 because bidirectional)\n",
    "print(\"Hidden shape:\", hidden.shape)  # [2, 2, 8]  (2 directions, batch=2, hidden=8)\n"
   ]
  }
 ],
 "metadata": {
  "kernelspec": {
   "display_name": "Python 3 (ipykernel)",
   "language": "python",
   "name": "python3"
  },
  "language_info": {
   "codemirror_mode": {
    "name": "ipython",
    "version": 3
   },
   "file_extension": ".py",
   "mimetype": "text/x-python",
   "name": "python",
   "nbconvert_exporter": "python",
   "pygments_lexer": "ipython3",
   "version": "3.12.4"
  }
 },
 "nbformat": 4,
 "nbformat_minor": 5
}
