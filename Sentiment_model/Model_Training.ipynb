{
 "cells": [
  {
   "cell_type": "code",
   "execution_count": 1,
   "id": "b531e05f-aa84-4749-8b7d-da8306fda48f",
   "metadata": {},
   "outputs": [],
   "source": [
    "import pandas as pd\n",
    "import numpy as np\n",
    "import torch\n",
    "from transformers import BertTokenizer, BertModel\n",
    "import pandas as pd\n",
    "import numpy as np\n",
    "from tqdm import tqdm"
   ]
  },
  {
   "cell_type": "code",
   "execution_count": 2,
   "id": "bf1f4594-b59e-4e5b-9f52-68f0860bc3ee",
   "metadata": {},
   "outputs": [],
   "source": [
    "df = pd.read_excel('C:\\\\Users\\\\BIT\\\\Downloads\\\\Complain.xlsx')"
   ]
  },
  {
   "cell_type": "code",
   "execution_count": 3,
   "id": "c2f035da-68b4-4f47-af90-1839f6a97058",
   "metadata": {},
   "outputs": [
    {
     "data": {
      "text/html": [
       "<div>\n",
       "<style scoped>\n",
       "    .dataframe tbody tr th:only-of-type {\n",
       "        vertical-align: middle;\n",
       "    }\n",
       "\n",
       "    .dataframe tbody tr th {\n",
       "        vertical-align: top;\n",
       "    }\n",
       "\n",
       "    .dataframe thead th {\n",
       "        text-align: right;\n",
       "    }\n",
       "</style>\n",
       "<table border=\"1\" class=\"dataframe\">\n",
       "  <thead>\n",
       "    <tr style=\"text-align: right;\">\n",
       "      <th></th>\n",
       "      <th>Domain</th>\n",
       "      <th>Complaint/ Opinion</th>\n",
       "      <th>Complaint Label</th>\n",
       "      <th>Complaint_Cause</th>\n",
       "      <th>Severity level</th>\n",
       "      <th>Sentiment</th>\n",
       "      <th>Emotion</th>\n",
       "    </tr>\n",
       "  </thead>\n",
       "  <tbody>\n",
       "    <tr>\n",
       "      <th>0</th>\n",
       "      <td>Transaction Fail</td>\n",
       "      <td>Can someone tell me if transaction fail betwee...</td>\n",
       "      <td>1</td>\n",
       "      <td>transaction fail between merchant and Bank due...</td>\n",
       "      <td>No explicit reproach</td>\n",
       "      <td>negative</td>\n",
       "      <td>sadness</td>\n",
       "    </tr>\n",
       "    <tr>\n",
       "      <th>1</th>\n",
       "      <td>Transaction Fail</td>\n",
       "      <td>@LICIndiaForever @Paytmcare @Paytm As part of ...</td>\n",
       "      <td>1</td>\n",
       "      <td>balance deducted but payment status shows fail</td>\n",
       "      <td>No explicit reproach</td>\n",
       "      <td>negative</td>\n",
       "      <td>sadness</td>\n",
       "    </tr>\n",
       "    <tr>\n",
       "      <th>2</th>\n",
       "      <td>Transaction Fail</td>\n",
       "      <td>@ICICIBank_Care This is something very serious...</td>\n",
       "      <td>1</td>\n",
       "      <td>not able to use imobile app</td>\n",
       "      <td>No explicit reproach</td>\n",
       "      <td>negative</td>\n",
       "      <td>anger</td>\n",
       "    </tr>\n",
       "    <tr>\n",
       "      <th>3</th>\n",
       "      <td>Transaction Fail</td>\n",
       "      <td>@RBI @ICICIBank_Care @ICICIBank @CRED_support ...</td>\n",
       "      <td>1</td>\n",
       "      <td>payment seems a fraud transaction</td>\n",
       "      <td>Blame</td>\n",
       "      <td>negative</td>\n",
       "      <td>anger</td>\n",
       "    </tr>\n",
       "    <tr>\n",
       "      <th>4</th>\n",
       "      <td>Transaction Fail</td>\n",
       "      <td>Fraud transaction through CRED for SBI C-Card ...</td>\n",
       "      <td>1</td>\n",
       "      <td>Fraud transaction through CRED</td>\n",
       "      <td>Accusation</td>\n",
       "      <td>negative</td>\n",
       "      <td>surprise</td>\n",
       "    </tr>\n",
       "  </tbody>\n",
       "</table>\n",
       "</div>"
      ],
      "text/plain": [
       "             Domain                                 Complaint/ Opinion  \\\n",
       "0  Transaction Fail  Can someone tell me if transaction fail betwee...   \n",
       "1  Transaction Fail  @LICIndiaForever @Paytmcare @Paytm As part of ...   \n",
       "2  Transaction Fail  @ICICIBank_Care This is something very serious...   \n",
       "3  Transaction Fail  @RBI @ICICIBank_Care @ICICIBank @CRED_support ...   \n",
       "4  Transaction Fail  Fraud transaction through CRED for SBI C-Card ...   \n",
       "\n",
       "   Complaint Label                                    Complaint_Cause  \\\n",
       "0                1  transaction fail between merchant and Bank due...   \n",
       "1                1     balance deducted but payment status shows fail   \n",
       "2                1                        not able to use imobile app   \n",
       "3                1                  payment seems a fraud transaction   \n",
       "4                1                     Fraud transaction through CRED   \n",
       "\n",
       "         Severity level Sentiment   Emotion  \n",
       "0  No explicit reproach  negative   sadness  \n",
       "1  No explicit reproach  negative   sadness  \n",
       "2  No explicit reproach  negative     anger  \n",
       "3                 Blame  negative     anger  \n",
       "4            Accusation  negative  surprise  "
      ]
     },
     "execution_count": 3,
     "metadata": {},
     "output_type": "execute_result"
    }
   ],
   "source": [
    "df.head()"
   ]
  },
  {
   "cell_type": "code",
   "execution_count": 4,
   "id": "7568f138-19a5-44e1-8787-52084e6dbc6e",
   "metadata": {},
   "outputs": [
    {
     "data": {
      "text/plain": [
       "array(['negative', 'neutral', 'positive'], dtype=object)"
      ]
     },
     "execution_count": 4,
     "metadata": {},
     "output_type": "execute_result"
    }
   ],
   "source": [
    "df['Sentiment'].unique()"
   ]
  },
  {
   "cell_type": "code",
   "execution_count": 5,
   "id": "7ed58cff-196b-4130-83f9-c3caaa0d63dc",
   "metadata": {},
   "outputs": [],
   "source": [
    "df=df[['Complaint/ Opinion' , 'Sentiment']]"
   ]
  },
  {
   "cell_type": "code",
   "execution_count": 6,
   "id": "2319cebd-3b46-4093-84d8-0c14ec1f1f29",
   "metadata": {},
   "outputs": [
    {
     "data": {
      "text/html": [
       "<div>\n",
       "<style scoped>\n",
       "    .dataframe tbody tr th:only-of-type {\n",
       "        vertical-align: middle;\n",
       "    }\n",
       "\n",
       "    .dataframe tbody tr th {\n",
       "        vertical-align: top;\n",
       "    }\n",
       "\n",
       "    .dataframe thead th {\n",
       "        text-align: right;\n",
       "    }\n",
       "</style>\n",
       "<table border=\"1\" class=\"dataframe\">\n",
       "  <thead>\n",
       "    <tr style=\"text-align: right;\">\n",
       "      <th></th>\n",
       "      <th>Complaint/ Opinion</th>\n",
       "      <th>Sentiment</th>\n",
       "    </tr>\n",
       "  </thead>\n",
       "  <tbody>\n",
       "    <tr>\n",
       "      <th>0</th>\n",
       "      <td>Can someone tell me if transaction fail betwee...</td>\n",
       "      <td>negative</td>\n",
       "    </tr>\n",
       "    <tr>\n",
       "      <th>1</th>\n",
       "      <td>@LICIndiaForever @Paytmcare @Paytm As part of ...</td>\n",
       "      <td>negative</td>\n",
       "    </tr>\n",
       "    <tr>\n",
       "      <th>2</th>\n",
       "      <td>@ICICIBank_Care This is something very serious...</td>\n",
       "      <td>negative</td>\n",
       "    </tr>\n",
       "    <tr>\n",
       "      <th>3</th>\n",
       "      <td>@RBI @ICICIBank_Care @ICICIBank @CRED_support ...</td>\n",
       "      <td>negative</td>\n",
       "    </tr>\n",
       "    <tr>\n",
       "      <th>4</th>\n",
       "      <td>Fraud transaction through CRED for SBI C-Card ...</td>\n",
       "      <td>negative</td>\n",
       "    </tr>\n",
       "  </tbody>\n",
       "</table>\n",
       "</div>"
      ],
      "text/plain": [
       "                                  Complaint/ Opinion Sentiment\n",
       "0  Can someone tell me if transaction fail betwee...  negative\n",
       "1  @LICIndiaForever @Paytmcare @Paytm As part of ...  negative\n",
       "2  @ICICIBank_Care This is something very serious...  negative\n",
       "3  @RBI @ICICIBank_Care @ICICIBank @CRED_support ...  negative\n",
       "4  Fraud transaction through CRED for SBI C-Card ...  negative"
      ]
     },
     "execution_count": 6,
     "metadata": {},
     "output_type": "execute_result"
    }
   ],
   "source": [
    "df.head()"
   ]
  },
  {
   "cell_type": "code",
   "execution_count": 7,
   "id": "c7b8f7cd-0479-4b13-a92d-cd26d9b7d0b6",
   "metadata": {},
   "outputs": [],
   "source": [
    "X=df['Complaint/ Opinion']"
   ]
  },
  {
   "cell_type": "code",
   "execution_count": 8,
   "id": "73b9cc85-e51e-4f7d-8d3a-ffc43fa7dd0d",
   "metadata": {},
   "outputs": [],
   "source": [
    "y=df['Sentiment']"
   ]
  },
  {
   "cell_type": "code",
   "execution_count": 9,
   "id": "6f4d4586-6cae-4ea1-a877-3e583431cbba",
   "metadata": {},
   "outputs": [],
   "source": [
    "texts =X.astype(str).tolist()"
   ]
  },
  {
   "cell_type": "code",
   "execution_count": 10,
   "id": "6df75059-f43c-47bf-a000-1c9176a47fb0",
   "metadata": {},
   "outputs": [
    {
     "data": {
      "text/plain": [
       "BertModel(\n",
       "  (embeddings): BertEmbeddings(\n",
       "    (word_embeddings): Embedding(30522, 768, padding_idx=0)\n",
       "    (position_embeddings): Embedding(512, 768)\n",
       "    (token_type_embeddings): Embedding(2, 768)\n",
       "    (LayerNorm): LayerNorm((768,), eps=1e-12, elementwise_affine=True)\n",
       "    (dropout): Dropout(p=0.1, inplace=False)\n",
       "  )\n",
       "  (encoder): BertEncoder(\n",
       "    (layer): ModuleList(\n",
       "      (0-11): 12 x BertLayer(\n",
       "        (attention): BertAttention(\n",
       "          (self): BertSdpaSelfAttention(\n",
       "            (query): Linear(in_features=768, out_features=768, bias=True)\n",
       "            (key): Linear(in_features=768, out_features=768, bias=True)\n",
       "            (value): Linear(in_features=768, out_features=768, bias=True)\n",
       "            (dropout): Dropout(p=0.1, inplace=False)\n",
       "          )\n",
       "          (output): BertSelfOutput(\n",
       "            (dense): Linear(in_features=768, out_features=768, bias=True)\n",
       "            (LayerNorm): LayerNorm((768,), eps=1e-12, elementwise_affine=True)\n",
       "            (dropout): Dropout(p=0.1, inplace=False)\n",
       "          )\n",
       "        )\n",
       "        (intermediate): BertIntermediate(\n",
       "          (dense): Linear(in_features=768, out_features=3072, bias=True)\n",
       "          (intermediate_act_fn): GELUActivation()\n",
       "        )\n",
       "        (output): BertOutput(\n",
       "          (dense): Linear(in_features=3072, out_features=768, bias=True)\n",
       "          (LayerNorm): LayerNorm((768,), eps=1e-12, elementwise_affine=True)\n",
       "          (dropout): Dropout(p=0.1, inplace=False)\n",
       "        )\n",
       "      )\n",
       "    )\n",
       "  )\n",
       "  (pooler): BertPooler(\n",
       "    (dense): Linear(in_features=768, out_features=768, bias=True)\n",
       "    (activation): Tanh()\n",
       "  )\n",
       ")"
      ]
     },
     "execution_count": 10,
     "metadata": {},
     "output_type": "execute_result"
    }
   ],
   "source": [
    "tokenizer = BertTokenizer.from_pretrained(\"bert-base-uncased\")\n",
    "model = BertModel.from_pretrained(\"bert-base-uncased\")\n",
    "model.eval()"
   ]
  },
  {
   "cell_type": "code",
   "execution_count": 11,
   "id": "b6893d3d-aa19-4d45-839b-ee09b407201f",
   "metadata": {},
   "outputs": [
    {
     "data": {
      "text/plain": [
       "BertModel(\n",
       "  (embeddings): BertEmbeddings(\n",
       "    (word_embeddings): Embedding(30522, 768, padding_idx=0)\n",
       "    (position_embeddings): Embedding(512, 768)\n",
       "    (token_type_embeddings): Embedding(2, 768)\n",
       "    (LayerNorm): LayerNorm((768,), eps=1e-12, elementwise_affine=True)\n",
       "    (dropout): Dropout(p=0.1, inplace=False)\n",
       "  )\n",
       "  (encoder): BertEncoder(\n",
       "    (layer): ModuleList(\n",
       "      (0-11): 12 x BertLayer(\n",
       "        (attention): BertAttention(\n",
       "          (self): BertSdpaSelfAttention(\n",
       "            (query): Linear(in_features=768, out_features=768, bias=True)\n",
       "            (key): Linear(in_features=768, out_features=768, bias=True)\n",
       "            (value): Linear(in_features=768, out_features=768, bias=True)\n",
       "            (dropout): Dropout(p=0.1, inplace=False)\n",
       "          )\n",
       "          (output): BertSelfOutput(\n",
       "            (dense): Linear(in_features=768, out_features=768, bias=True)\n",
       "            (LayerNorm): LayerNorm((768,), eps=1e-12, elementwise_affine=True)\n",
       "            (dropout): Dropout(p=0.1, inplace=False)\n",
       "          )\n",
       "        )\n",
       "        (intermediate): BertIntermediate(\n",
       "          (dense): Linear(in_features=768, out_features=3072, bias=True)\n",
       "          (intermediate_act_fn): GELUActivation()\n",
       "        )\n",
       "        (output): BertOutput(\n",
       "          (dense): Linear(in_features=3072, out_features=768, bias=True)\n",
       "          (LayerNorm): LayerNorm((768,), eps=1e-12, elementwise_affine=True)\n",
       "          (dropout): Dropout(p=0.1, inplace=False)\n",
       "        )\n",
       "      )\n",
       "    )\n",
       "  )\n",
       "  (pooler): BertPooler(\n",
       "    (dense): Linear(in_features=768, out_features=768, bias=True)\n",
       "    (activation): Tanh()\n",
       "  )\n",
       ")"
      ]
     },
     "execution_count": 11,
     "metadata": {},
     "output_type": "execute_result"
    }
   ],
   "source": [
    "device = torch.device(\"cuda\" if torch.cuda.is_available() else \"cpu\")\n",
    "model.to(device)"
   ]
  },
  {
   "cell_type": "code",
   "execution_count": 12,
   "id": "c864bdbf-dd39-4667-a2ca-a5f49e50f585",
   "metadata": {},
   "outputs": [],
   "source": [
    "def get_bert_embeddings(text_list, tokenizer, model, device, max_len=128):\n",
    "    embeddings = []\n",
    "    with torch.no_grad():\n",
    "        for text in tqdm(text_list, desc=\"Encoding with BERT\"):\n",
    "            inputs = tokenizer(\n",
    "                text,\n",
    "                return_tensors=\"pt\",\n",
    "                truncation=True,\n",
    "                padding=\"max_length\",\n",
    "                max_length=max_len\n",
    "            ).to(device)\n",
    "            \n",
    "            outputs = model(**inputs)\n",
    "            last_hidden_state = outputs.last_hidden_state  \n",
    "            cls_embedding = last_hidden_state[:, 0, :].cpu().numpy().flatten()\n",
    "\n",
    "            embeddings.append(cls_embedding)\n",
    "    return np.array(embeddings)"
   ]
  },
  {
   "cell_type": "code",
   "execution_count": 13,
   "id": "19b8f7b5-8683-4d0a-a3d4-b33deb4069f4",
   "metadata": {},
   "outputs": [
    {
     "name": "stderr",
     "output_type": "stream",
     "text": [
      "\n",
      "ncoding with BERT: 100%|███████████████████████████████████████████████████████████████████████| 6280/6280 [19:13<00:00,  5.44it/s]"
     ]
    }
   ],
   "source": [
    "bert_embeddings = get_bert_embeddings(texts, tokenizer, model, device)"
   ]
  },
  {
   "cell_type": "code",
   "execution_count": 14,
   "id": "d858d05e-6cab-4888-ab87-d2c69d8e642e",
   "metadata": {},
   "outputs": [],
   "source": [
    "df[\"bert_embedding\"] = list(bert_embeddings)"
   ]
  },
  {
   "cell_type": "code",
   "execution_count": 28,
   "id": "7d48660f-ffd7-4f1e-9cc0-ff0a6cd2616f",
   "metadata": {},
   "outputs": [
    {
     "name": "stdout",
     "output_type": "stream",
     "text": [
      "✅ Saved BERT model and tokenizer to: saved_bert_model\n"
     ]
    }
   ],
   "source": [
    "from transformers import BertTokenizer, BertModel\n",
    "import torch\n",
    "\n",
    "# Load pretrained BERT\n",
    "tokenizer = BertTokenizer.from_pretrained(\"bert-base-uncased\")\n",
    "bert_model = BertModel.from_pretrained(\"bert-base-uncased\")\n",
    "bert_model.eval()\n",
    "\n",
    "device = torch.device(\"cuda\" if torch.cuda.is_available() else \"cpu\")\n",
    "bert_model.to(device)\n",
    "\n",
    "# Save BERT model and tokenizer\n",
    "save_dir = \"saved_bert_model\"\n",
    "\n",
    "tokenizer.save_pretrained(save_dir)\n",
    "bert_model.save_pretrained(save_dir)   # ✅ use bert_model here, not model\n",
    "\n",
    "print(f\"✅ Saved BERT model and tokenizer to: {save_dir}\")\n"
   ]
  },
  {
   "cell_type": "code",
   "execution_count": 15,
   "id": "1906159f-9d60-4091-b751-6199163dc310",
   "metadata": {},
   "outputs": [
    {
     "data": {
      "text/plain": [
       "(6280, 768)"
      ]
     },
     "execution_count": 15,
     "metadata": {},
     "output_type": "execute_result"
    }
   ],
   "source": [
    "bert_embeddings.shape"
   ]
  },
  {
   "cell_type": "code",
   "execution_count": 16,
   "id": "0275b14e-a46f-4601-9872-d5259a64bc81",
   "metadata": {},
   "outputs": [],
   "source": [
    "X=df[\"bert_embedding\"]"
   ]
  },
  {
   "cell_type": "code",
   "execution_count": 17,
   "id": "a0995994-eabe-4935-948e-a0cb3fab459a",
   "metadata": {},
   "outputs": [],
   "source": [
    "y=df[\"Sentiment\"]"
   ]
  },
  {
   "cell_type": "code",
   "execution_count": 25,
   "id": "b8e5a529-5bab-457f-af4d-0064cff48439",
   "metadata": {},
   "outputs": [
    {
     "name": "stderr",
     "output_type": "stream",
     "text": [
      "C:\\Users\\BIT\\AppData\\Local\\Temp\\ipykernel_20312\\2885081918.py:1: FutureWarning: Downcasting behavior in `replace` is deprecated and will be removed in a future version. To retain the old behavior, explicitly call `result.infer_objects(copy=False)`. To opt-in to the future behavior, set `pd.set_option('future.no_silent_downcasting', True)`\n",
      "  y.replace({'negative':0 , 'positive':1 , 'neutral':2},inplace=True)\n"
     ]
    }
   ],
   "source": [
    "y.replace({'negative':0 , 'positive':1 , 'neutral':2},inplace=True)"
   ]
  },
  {
   "cell_type": "code",
   "execution_count": 27,
   "id": "85887430-4766-4aa5-bd00-37948750dc52",
   "metadata": {},
   "outputs": [
    {
     "data": {
      "text/plain": [
       "Sentiment\n",
       "0    3567\n",
       "1    1462\n",
       "2    1251\n",
       "Name: count, dtype: int64"
      ]
     },
     "execution_count": 27,
     "metadata": {},
     "output_type": "execute_result"
    }
   ],
   "source": [
    "y.value_counts()"
   ]
  },
  {
   "cell_type": "code",
   "execution_count": 18,
   "id": "d0d0b01d-9aa6-4b0c-9a55-9ef8b21b9727",
   "metadata": {},
   "outputs": [],
   "source": [
    "import torch\n",
    "import torch.nn as nn\n",
    "import torch.optim as optim\n",
    "from sklearn.model_selection import train_test_split\n",
    "from sklearn.preprocessing import LabelEncoder\n",
    "from sklearn.metrics import accuracy_score\n",
    "import numpy as np"
   ]
  },
  {
   "cell_type": "code",
   "execution_count": 24,
   "id": "4d364f2a-659c-47dc-8d6d-fdf68a371bb2",
   "metadata": {},
   "outputs": [
    {
     "name": "stdout",
     "output_type": "stream",
     "text": [
      "Epoch [1/20] Avg Loss: 76.5668\n",
      "Epoch [2/20] Avg Loss: 60.3641\n",
      "Epoch [3/20] Avg Loss: 52.1208\n",
      "Epoch [4/20] Avg Loss: 49.5468\n",
      "Epoch [5/20] Avg Loss: 47.4389\n",
      "Epoch [6/20] Avg Loss: 45.7759\n",
      "Epoch [7/20] Avg Loss: 45.1001\n",
      "Epoch [8/20] Avg Loss: 44.0340\n",
      "Epoch [9/20] Avg Loss: 42.8999\n",
      "Epoch [10/20] Avg Loss: 42.5117\n",
      "Epoch [11/20] Avg Loss: 41.6756\n",
      "Epoch [12/20] Avg Loss: 40.9581\n",
      "Epoch [13/20] Avg Loss: 40.8050\n",
      "Epoch [14/20] Avg Loss: 39.4343\n",
      "Epoch [15/20] Avg Loss: 39.0686\n",
      "Epoch [16/20] Avg Loss: 37.7873\n",
      "Epoch [17/20] Avg Loss: 36.7045\n",
      "Epoch [18/20] Avg Loss: 35.7551\n",
      "Epoch [19/20] Avg Loss: 35.2264\n",
      "Epoch [20/20] Avg Loss: 34.2394\n",
      "\n",
      "🎯 Model saved as 'best_model.pth'\n",
      "✅ Test Accuracy: 76.83%\n"
     ]
    }
   ],
   "source": [
    "import torch\n",
    "import torch.nn as nn\n",
    "import torch.optim as optim\n",
    "import numpy as np\n",
    "from sklearn.model_selection import train_test_split\n",
    "from sklearn.preprocessing import LabelEncoder\n",
    "from sklearn.metrics import accuracy_score\n",
    "\n",
    "# Prepare data\n",
    "X = np.vstack(df[\"bert_embedding\"].values)\n",
    "y = df[\"Sentiment\"].values\n",
    "\n",
    "# Encode labels\n",
    "le = LabelEncoder()\n",
    "y = le.fit_transform(y)\n",
    "\n",
    "# Split data\n",
    "X_train, X_test, y_train, y_test = train_test_split(\n",
    "    X, y, test_size=0.2, random_state=42\n",
    ")\n",
    "\n",
    "# Convert to tensors\n",
    "X_train = torch.tensor(X_train, dtype=torch.float32)\n",
    "X_test  = torch.tensor(X_test, dtype=torch.float32)\n",
    "y_train = torch.tensor(y_train, dtype=torch.long)\n",
    "y_test  = torch.tensor(y_test, dtype=torch.long)\n",
    "\n",
    "# Define input/output dimensions\n",
    "input_dim = X_train.shape[1]\n",
    "output_dim = len(np.unique(y))\n",
    "device = torch.device(\"cuda\" if torch.cuda.is_available() else \"cpu\")\n",
    "\n",
    "# Define model\n",
    "model = nn.Sequential(\n",
    "    nn.Linear(input_dim, 512),\n",
    "    nn.ReLU(),\n",
    "    nn.Dropout(0.2),\n",
    "\n",
    "    nn.Linear(512, 256),\n",
    "    nn.ReLU(),\n",
    "    nn.Dropout(0.2),\n",
    "\n",
    "    nn.Linear(256, 128),\n",
    "    nn.ReLU(),\n",
    "    nn.Dropout(0.2),\n",
    "\n",
    "    nn.Linear(128, output_dim)\n",
    ")\n",
    "model.to(device)\n",
    "\n",
    "# Define loss and optimizer\n",
    "criterion = nn.CrossEntropyLoss()\n",
    "optimizer = optim.Adam(model.parameters(), lr=0.0001)\n",
    "\n",
    "# Train model\n",
    "epochs = 20\n",
    "batch_size = 64\n",
    "\n",
    "for epoch in range(epochs):\n",
    "    model.train()\n",
    "    permutation = torch.randperm(X_train.size()[0])\n",
    "    total_loss = 0\n",
    "\n",
    "    for i in range(0, X_train.size()[0], batch_size):\n",
    "        idx = permutation[i:i+batch_size]\n",
    "        batch_X, batch_y = X_train[idx].to(device), y_train[idx].to(device)\n",
    "\n",
    "        optimizer.zero_grad()\n",
    "        outputs = model(batch_X)\n",
    "        loss = criterion(outputs, batch_y)\n",
    "        loss.backward()\n",
    "        optimizer.step()\n",
    "\n",
    "        total_loss += loss.item()\n",
    "\n",
    "    print(f\"Epoch [{epoch+1}/{epochs}] Avg Loss: {total_loss:.4f}\")\n",
    "\n",
    "# Save model\n",
    "torch.save(model.state_dict(), \"best_model.pth\")\n",
    "print(\"\\n🎯 Model saved as 'best_model.pth'\")\n",
    "\n",
    "# Evaluate model\n",
    "model.eval()\n",
    "with torch.no_grad():\n",
    "    preds = model(X_test.to(device))\n",
    "    predicted = torch.argmax(preds, dim=1).cpu().numpy()\n",
    "    acc = accuracy_score(y_test, predicted)\n",
    "\n",
    "print(f\"✅ Test Accuracy: {acc * 100:.2f}%\")\n"
   ]
  },
  {
   "cell_type": "markdown",
   "id": "8e265b4c-f12b-435c-a5b2-e8190324d036",
   "metadata": {},
   "source": [
    "##y   0-->negactive  , 1-->neutral , 2-->positive"
   ]
  },
  {
   "cell_type": "code",
   "execution_count": 30,
   "id": "231fb7be-77ee-492c-b7a4-e5a2be249aea",
   "metadata": {},
   "outputs": [
    {
     "data": {
      "text/html": [
       "<div>\n",
       "<style scoped>\n",
       "    .dataframe tbody tr th:only-of-type {\n",
       "        vertical-align: middle;\n",
       "    }\n",
       "\n",
       "    .dataframe tbody tr th {\n",
       "        vertical-align: top;\n",
       "    }\n",
       "\n",
       "    .dataframe thead th {\n",
       "        text-align: right;\n",
       "    }\n",
       "</style>\n",
       "<table border=\"1\" class=\"dataframe\">\n",
       "  <thead>\n",
       "    <tr style=\"text-align: right;\">\n",
       "      <th></th>\n",
       "      <th>Complaint/ Opinion</th>\n",
       "      <th>Sentiment</th>\n",
       "      <th>bert_embedding</th>\n",
       "    </tr>\n",
       "  </thead>\n",
       "  <tbody>\n",
       "    <tr>\n",
       "      <th>0</th>\n",
       "      <td>Can someone tell me if transaction fail betwee...</td>\n",
       "      <td>negative</td>\n",
       "      <td>[0.015723862, -0.11892362, 0.2700489, 0.087013...</td>\n",
       "    </tr>\n",
       "    <tr>\n",
       "      <th>1</th>\n",
       "      <td>@LICIndiaForever @Paytmcare @Paytm As part of ...</td>\n",
       "      <td>negative</td>\n",
       "      <td>[-0.23529556, -0.038245983, 0.2574466, -0.4277...</td>\n",
       "    </tr>\n",
       "    <tr>\n",
       "      <th>2</th>\n",
       "      <td>@ICICIBank_Care This is something very serious...</td>\n",
       "      <td>negative</td>\n",
       "      <td>[0.051478382, -0.04059323, 0.49588287, -0.0398...</td>\n",
       "    </tr>\n",
       "    <tr>\n",
       "      <th>3</th>\n",
       "      <td>@RBI @ICICIBank_Care @ICICIBank @CRED_support ...</td>\n",
       "      <td>negative</td>\n",
       "      <td>[0.044812456, -0.103598826, 0.3338256, 0.03373...</td>\n",
       "    </tr>\n",
       "    <tr>\n",
       "      <th>4</th>\n",
       "      <td>Fraud transaction through CRED for SBI C-Card ...</td>\n",
       "      <td>negative</td>\n",
       "      <td>[-0.07003464, -0.4320778, 0.28209257, 0.039742...</td>\n",
       "    </tr>\n",
       "    <tr>\n",
       "      <th>...</th>\n",
       "      <td>...</td>\n",
       "      <td>...</td>\n",
       "      <td>...</td>\n",
       "    </tr>\n",
       "    <tr>\n",
       "      <th>6275</th>\n",
       "      <td>If your implication is that policies to reduce...</td>\n",
       "      <td>negative</td>\n",
       "      <td>[0.2980588, 0.2017999, -0.45861152, -0.0231025...</td>\n",
       "    </tr>\n",
       "    <tr>\n",
       "      <th>6276</th>\n",
       "      <td>Banks being put on notice regarding climate ch...</td>\n",
       "      <td>positive</td>\n",
       "      <td>[-0.012771929, 0.09655386, 0.06859196, 0.04846...</td>\n",
       "    </tr>\n",
       "    <tr>\n",
       "      <th>6277</th>\n",
       "      <td>How Will the Stock Market Do in 2022? Expect a...</td>\n",
       "      <td>positive</td>\n",
       "      <td>[-0.24371383, -0.019919544, -0.1082685, -0.118...</td>\n",
       "    </tr>\n",
       "    <tr>\n",
       "      <th>6278</th>\n",
       "      <td>Goodbye, punch bowl. We’re going to miss you. ...</td>\n",
       "      <td>negative</td>\n",
       "      <td>[-0.027334321, -0.039972924, -0.01948164, -0.1...</td>\n",
       "    </tr>\n",
       "    <tr>\n",
       "      <th>6279</th>\n",
       "      <td>What are the company’s policies and processes ...</td>\n",
       "      <td>neutral</td>\n",
       "      <td>[-0.506498, 0.030304857, 0.15509462, 0.0995869...</td>\n",
       "    </tr>\n",
       "  </tbody>\n",
       "</table>\n",
       "<p>6280 rows × 3 columns</p>\n",
       "</div>"
      ],
      "text/plain": [
       "                                     Complaint/ Opinion Sentiment  \\\n",
       "0     Can someone tell me if transaction fail betwee...  negative   \n",
       "1     @LICIndiaForever @Paytmcare @Paytm As part of ...  negative   \n",
       "2     @ICICIBank_Care This is something very serious...  negative   \n",
       "3     @RBI @ICICIBank_Care @ICICIBank @CRED_support ...  negative   \n",
       "4     Fraud transaction through CRED for SBI C-Card ...  negative   \n",
       "...                                                 ...       ...   \n",
       "6275  If your implication is that policies to reduce...  negative   \n",
       "6276  Banks being put on notice regarding climate ch...  positive   \n",
       "6277  How Will the Stock Market Do in 2022? Expect a...  positive   \n",
       "6278  Goodbye, punch bowl. We’re going to miss you. ...  negative   \n",
       "6279  What are the company’s policies and processes ...   neutral   \n",
       "\n",
       "                                         bert_embedding  \n",
       "0     [0.015723862, -0.11892362, 0.2700489, 0.087013...  \n",
       "1     [-0.23529556, -0.038245983, 0.2574466, -0.4277...  \n",
       "2     [0.051478382, -0.04059323, 0.49588287, -0.0398...  \n",
       "3     [0.044812456, -0.103598826, 0.3338256, 0.03373...  \n",
       "4     [-0.07003464, -0.4320778, 0.28209257, 0.039742...  \n",
       "...                                                 ...  \n",
       "6275  [0.2980588, 0.2017999, -0.45861152, -0.0231025...  \n",
       "6276  [-0.012771929, 0.09655386, 0.06859196, 0.04846...  \n",
       "6277  [-0.24371383, -0.019919544, -0.1082685, -0.118...  \n",
       "6278  [-0.027334321, -0.039972924, -0.01948164, -0.1...  \n",
       "6279  [-0.506498, 0.030304857, 0.15509462, 0.0995869...  \n",
       "\n",
       "[6280 rows x 3 columns]"
      ]
     },
     "execution_count": 30,
     "metadata": {},
     "output_type": "execute_result"
    }
   ],
   "source": [
    "df"
   ]
  },
  {
   "cell_type": "code",
   "execution_count": null,
   "id": "74f89bfd-48bc-444c-8cfb-bbc326e66c86",
   "metadata": {},
   "outputs": [],
   "source": []
  }
 ],
 "metadata": {
  "kernelspec": {
   "display_name": "Python 3 (ipykernel)",
   "language": "python",
   "name": "python3"
  },
  "language_info": {
   "codemirror_mode": {
    "name": "ipython",
    "version": 3
   },
   "file_extension": ".py",
   "mimetype": "text/x-python",
   "name": "python",
   "nbconvert_exporter": "python",
   "pygments_lexer": "ipython3",
   "version": "3.12.4"
  }
 },
 "nbformat": 4,
 "nbformat_minor": 5
}
