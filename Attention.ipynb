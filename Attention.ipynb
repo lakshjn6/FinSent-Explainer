{
 "cells": [
  {
   "cell_type": "code",
   "execution_count": null,
   "id": "748bed41-a4cd-4280-8b03-6efd3275039d",
   "metadata": {},
   "outputs": [],
   "source": [
    "import torch\n",
    "import torch.nn as nn\n",
    "import torch.nn.functional as F\n",
    "\n",
    "class Attention(nn.Module):\n",
    "    def __init__(self, hidden_size):\n",
    "        super(Attention, self).__init__()\n",
    "        # Linear layer that gives a score for each token\n",
    "        self.attention = nn.Linear(hidden_size * 2, 1)  # *2 because BiGRU is bidirectional\n",
    "\n",
    "    def forward(self, gru_output):\n",
    "        # gru_output shape: [batch, seq_len, hidden_size*2]\n",
    "        \n",
    "        # 1. Compute attention scores for each token\n",
    "        scores = self.attention(gru_output)   # [batch, seq_len, 1]\n",
    "        \n",
    "        # 2. Convert scores into probabilities with softmax\n",
    "        attn_weights = F.softmax(scores, dim=1)  # [batch, seq_len, 1]\n",
    "        \n",
    "        # 3. Weighted sum of BiGRU outputs\n",
    "        context_vector = torch.sum(attn_weights * gru_output, dim=1)  # [batch, hidden_size*2]\n",
    "        \n",
    "        return context_vector, attn_weights\n"
   ]
  }
 ],
 "metadata": {
  "kernelspec": {
   "display_name": "Python 3 (ipykernel)",
   "language": "python",
   "name": "python3"
  },
  "language_info": {
   "codemirror_mode": {
    "name": "ipython",
    "version": 3
   },
   "file_extension": ".py",
   "mimetype": "text/x-python",
   "name": "python",
   "nbconvert_exporter": "python",
   "pygments_lexer": "ipython3",
   "version": "3.12.4"
  }
 },
 "nbformat": 4,
 "nbformat_minor": 5
}
